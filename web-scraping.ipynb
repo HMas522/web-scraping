{
 "cells": [
  {
   "cell_type": "markdown",
   "metadata": {},
   "source": [
    "# Web Mining and Applied NLP (44-620)\n",
    "\n",
    "## Web Scraping and NLP with Requests, BeautifulSoup, and spaCy\n",
    "\n",
    "### Student Name: Hayley Massey\n",
    "\n",
    "### https://github.com/HMas522/web-scraping\n",
    "\n",
    "Perform the tasks described in the Markdown cells below.  When you have completed the assignment make sure your code cells have all been run (and have output beneath them) and ensure you have committed and pushed ALL of your changes to your assignment repository.\n",
    "\n",
    "Every question that requires you to write code will have a code cell underneath it; you may either write your entire solution in that cell or write it in a python file (`.py`), then import and run the appropriate code to answer the question."
   ]
  },
  {
   "cell_type": "markdown",
   "metadata": {},
   "source": [
    "### Prerequisites"
   ]
  },
  {
   "cell_type": "code",
   "execution_count": 2,
   "metadata": {},
   "outputs": [
    {
     "name": "stdout",
     "output_type": "stream",
     "text": [
      "Package                   Version\n",
      "------------------------- ---------------\n",
      "annotated-types           0.6.0\n",
      "anyio                     3.7.1\n",
      "appdirs                   1.4.4\n",
      "argon2-cffi               23.1.0\n",
      "argon2-cffi-bindings      21.2.0\n",
      "arrow                     1.3.0\n",
      "asgiref                   3.7.2\n",
      "asttokens                 2.2.1\n",
      "async-lru                 2.0.4\n",
      "attrs                     23.2.0\n",
      "Babel                     2.14.0\n",
      "backcall                  0.2.0\n",
      "beautifulsoup4            4.12.2\n",
      "black                     24.1.1\n",
      "bleach                    6.1.0\n",
      "blis                      0.7.11\n",
      "build                     1.0.3\n",
      "catalogue                 2.0.10\n",
      "certifi                   2023.7.22\n",
      "cffi                      1.16.0\n",
      "charset-normalizer        3.2.0\n",
      "click                     8.1.4\n",
      "cloudpathlib              0.16.0\n",
      "colorama                  0.4.6\n",
      "comm                      0.2.1\n",
      "confection                0.1.4\n",
      "contextvars               2.4\n",
      "contourpy                 1.2.0\n",
      "cycler                    0.12.1\n",
      "cymem                     2.0.8\n",
      "debugpy                   1.8.0\n",
      "decorator                 5.1.1\n",
      "defusedxml                0.7.1\n",
      "en-core-web-sm            3.7.1\n",
      "exceptiongroup            1.1.2\n",
      "executing                 1.2.0\n",
      "fastjsonschema            2.19.1\n",
      "fonttools                 4.47.2\n",
      "fqdn                      1.5.1\n",
      "frozendict                2.3.8\n",
      "greenlet                  3.0.3\n",
      "h11                       0.14.0\n",
      "html5lib                  1.1\n",
      "htmltools                 0.2.1\n",
      "idna                      3.4\n",
      "immutables                0.19\n",
      "ipykernel                 6.29.0\n",
      "ipython                   8.14.0\n",
      "ipywidgets                8.1.2\n",
      "isoduration               20.11.0\n",
      "jedi                      0.18.2\n",
      "Jinja2                    3.1.3\n",
      "joblib                    1.3.2\n",
      "json5                     0.9.14\n",
      "jsonpointer               2.4\n",
      "jsonschema                4.21.1\n",
      "jsonschema-specifications 2023.12.1\n",
      "jupyter                   1.0.0\n",
      "jupyter_client            8.6.0\n",
      "jupyter-console           6.6.3\n",
      "jupyter_core              5.7.1\n",
      "jupyter-events            0.9.0\n",
      "jupyter-lsp               2.2.2\n",
      "jupyter_server            2.12.5\n",
      "jupyter_server_terminals  0.5.2\n",
      "jupyterlab                4.0.12\n",
      "jupyterlab_pygments       0.3.0\n",
      "jupyterlab_server         2.25.2\n",
      "jupyterlab_widgets        3.0.10\n",
      "kiwisolver                1.4.5\n",
      "langcodes                 3.3.0\n",
      "linkify-it-py             2.0.2\n",
      "lxml                      4.9.3\n",
      "markdown-it-py            3.0.0\n",
      "MarkupSafe                2.1.5\n",
      "matplotlib                3.8.2\n",
      "matplotlib-inline         0.1.6\n",
      "mdit-py-plugins           0.4.0\n",
      "mdurl                     0.1.2\n",
      "mistune                   3.0.2\n",
      "multitasking              0.0.11\n",
      "murmurhash                1.0.10\n",
      "mypy-extensions           1.0.0\n",
      "nbclient                  0.7.4\n",
      "nbconvert                 7.14.2\n",
      "nbformat                  5.9.2\n",
      "nest-asyncio              1.6.0\n",
      "nltk                      3.8.1\n",
      "nodeenv                   1.8.0\n",
      "notebook                  7.0.7\n",
      "notebook_shim             0.2.3\n",
      "numpy                     1.25.2\n",
      "overrides                 7.7.0\n",
      "packaging                 23.1\n",
      "pandas                    2.2.0\n",
      "pandocfilters             1.5.1\n",
      "parso                     0.8.3\n",
      "pathspec                  0.11.1\n",
      "pickleshare               0.7.5\n",
      "pillow                    10.2.0\n",
      "pip                       24.0\n",
      "platformdirs              3.9.0\n",
      "preshed                   3.0.9\n",
      "prometheus-client         0.19.0\n",
      "prompt-toolkit            3.0.39\n",
      "psutil                    5.9.8\n",
      "psycopg2                  2.9.9\n",
      "psycopg2-binary           2.9.9\n",
      "pure-eval                 0.2.2\n",
      "pycparser                 2.21\n",
      "pydantic                  2.6.4\n",
      "pydantic_core             2.16.3\n",
      "Pygments                  2.15.1\n",
      "PyJWT                     2.7.0\n",
      "pyparsing                 3.1.1\n",
      "pyproject_hooks           1.0.0\n",
      "pyright                   1.1.320\n",
      "python-dateutil           2.8.2\n",
      "python-json-logger        2.0.7\n",
      "python-multipart          0.0.6\n",
      "pytz                      2023.3\n",
      "pywin32                   306\n",
      "pywinpty                  2.0.12\n",
      "PyYAML                    6.0.1\n",
      "pyzmq                     25.1.2\n",
      "qtconsole                 5.5.1\n",
      "QtPy                      2.4.1\n",
      "referencing               0.33.0\n",
      "regex                     2023.12.25\n",
      "requests                  2.31.0\n",
      "rfc3339-validator         0.1.4\n",
      "rfc3986-validator         0.1.1\n",
      "rpds-py                   0.17.1\n",
      "rsconnect-python          1.19.1\n",
      "ruff                      0.2.0\n",
      "seaborn                   0.13.2\n",
      "semver                    2.13.0\n",
      "Send2Trash                1.8.2\n",
      "setuptools                69.2.0\n",
      "shiny                     0.4.0\n",
      "shinyswatch               0.2.4\n",
      "six                       1.16.0\n",
      "smart-open                6.4.0\n",
      "sniffio                   1.3.0\n",
      "soupsieve                 2.4.1\n",
      "spacy                     3.7.4\n",
      "spacy-legacy              3.0.12\n",
      "spacy-loggers             1.0.5\n",
      "spacytextblob             4.0.0\n",
      "SQLAlchemy                2.0.25\n",
      "srsly                     2.4.8\n",
      "stack-data                0.6.2\n",
      "starlette                 0.30.0\n",
      "terminado                 0.18.0\n",
      "textblob                  0.15.3\n",
      "thinc                     8.2.3\n",
      "tinycss2                  1.2.1\n",
      "tokenize-rt               5.1.0\n",
      "tomli                     2.0.1\n",
      "tornado                   6.4\n",
      "tqdm                      4.66.2\n",
      "traitlets                 5.9.0\n",
      "typer                     0.9.4\n",
      "types-python-dateutil     2.8.19.20240106\n",
      "typing_extensions         4.7.1\n",
      "tzdata                    2023.3\n",
      "uc-micro-py               1.0.2\n",
      "uri-template              1.3.0\n",
      "urllib3                   2.0.4\n",
      "uvicorn                   0.23.0\n",
      "voila                     0.5.5\n",
      "wasabi                    1.1.2\n",
      "watchfiles                0.19.0\n",
      "wcwidth                   0.2.6\n",
      "weasel                    0.3.4\n",
      "webcolors                 1.13\n",
      "webencodings              0.5.1\n",
      "websocket-client          1.7.0\n",
      "websockets                11.0.3\n",
      "wheel                     0.43.0\n",
      "widgetsnbextension        4.0.10\n",
      "XStatic-bootswatch        3.3.7.0\n",
      "yfinance                  0.2.26\n",
      "All prereqs installed.\n"
     ]
    }
   ],
   "source": [
    "# Create and activate a Python virtual environment. \n",
    "# Before starting the project, try all these imports FIRST\n",
    "# Address any errors you get running this code cell \n",
    "# by installing the necessary packages into your active Python environment.\n",
    "# Try to resolve issues using your materials and the web.\n",
    "# If that doesn't work, ask for help in the discussion forums.\n",
    "# You can't complete the exercises until you import these - start early! \n",
    "# We also import pickle and Counter (included in the Python Standard Library).\n",
    "\n",
    "from collections import Counter\n",
    "import pickle\n",
    "import requests\n",
    "import spacy\n",
    "from bs4 import BeautifulSoup\n",
    "import matplotlib.pyplot as plt\n",
    "\n",
    "!pip list\n",
    "\n",
    "print('All prereqs installed.')"
   ]
  },
  {
   "cell_type": "markdown",
   "metadata": {},
   "source": [
    "## Question 1\n",
    "1. Write code that extracts the article html from https://web.archive.org/web/20210327165005/https://hackaday.com/2021/03/22/how-laser-headlights-work/ and dumps it to a .pkl (or other appropriate file)"
   ]
  },
  {
   "cell_type": "code",
   "execution_count": 4,
   "metadata": {},
   "outputs": [],
   "source": [
    "# set up imports\n",
    "import requests\n",
    "from bs4 import BeautifulSoup\n",
    "import pickle\n",
    "\n",
    "# call request\n",
    "response = requests.get('https://web.archive.org/web/20210327165005/https://hackaday.com/2021/03/22/how-laser-headlights-work/')\n",
    "\n",
    "# good soup\n",
    "soup = BeautifulSoup(response.text, \"html.parser\")\n",
    "\n",
    "# extract string 'str' word article using soup find\n",
    "article_html = str(soup.find(\"article\"))\n",
    "\n",
    "# create pickle dump and name file name\n",
    "with open(\"article_html.pkl\", \"wb\") as file:\n",
    "    pickle.dump(article_html, file)"
   ]
  },
  {
   "cell_type": "markdown",
   "metadata": {},
   "source": [
    "## Question 2\n",
    "2. Read in your article's html source from the file you created in question 1 and print it's text (use `.get_text()`)"
   ]
  },
  {
   "cell_type": "code",
   "execution_count": 6,
   "metadata": {},
   "outputs": [
    {
     "name": "stdout",
     "output_type": "stream",
     "text": [
      "\n",
      "\n",
      "How Laser Headlights Work\n",
      "\n",
      "\n",
      "                130 Comments            \n",
      "\n",
      "by:\n",
      "Lewin Day\n",
      "\n",
      "\n",
      "\n",
      "March 22, 2021\n",
      "\n",
      "\n",
      "\n",
      "\n",
      "\n",
      "\n",
      "\n",
      "\n",
      "When we think about the onward march of automotive technology, headlights aren’t usually the first thing that come to mind. Engines, fuel efficiency, and the switch to electric power are all more front of mind. However, that doesn’t mean there aren’t thousands of engineers around the world working to improve the state of the art in automotive lighting day in, day out.\n",
      "Sealed beam headlights gave way to more modern designs once regulations loosened up, while bulbs moved from simple halogens to xenon HIDs and, more recently, LEDs. Now, a new technology is on the scene, with lasers!\n",
      "\n",
      "Laser Headlights?!\n",
      "BWM’s prototype laser headlight assemblies undergoing testing.\n",
      "The first image brought to mind by the phrase “laser headlights” is that of laser beams firing out the front of an automobile. Obviously, coherent beams of monochromatic light would make for poor illumination outside of a very specific spot quite some distance away. Thankfully for our eyes, laser headlights don’t work in this way at all.\n",
      "Instead, laser headlights consist of one or more solid state laser diodes mounted inside the headlight. These blue lasers are fired at a yellow phosphor, similar to that used in white LEDs. This produces a powerful, vibrant white light that can then be bounced off reflectors and out of the headlights towards the road. Laser headlights built in this way have several benefits. They’re more energy efficient than LEDs that put out the same amount of light, while also being more space efficient, too.\n",
      "BWM’s futuristic i8 was one of the first vehicles to ship with laser headlight technology.\n",
      "Laser headlights are still a nascent technology, thus far only appearing in a few BMW, Audi, and other select vehicles. BMW’s technology was developed in partnership with lighting experts OSRAM. In practice, a regular LED low-beam lamp is used, with the laser used to create an incredibly bright and focused spot, used for high-beams. This can provide illumination out to 600 meters ahead of the vehicle, double that of conventional LED high beams. The lights use indium gallium nitride diode lasers that were originally used in projectors, with power levels above 1 watt. One of the challenges in implementing such technology in an automotive environment is the need for it to operate at temperature extremes. While research lasers and laser pointers may primarily be used at typical room temperatures, automotive headlights must be able to withstand everything from 40 degrees below zero up to 50 degrees C. Thankfully, the laser’s high efficiency means it doesn’t have huge heat output of its own to further complicate things. Other engineering challenges involve tailoring the optics package for the rough-and-tumble, high vibration environment found in the automotive application. It’s also important to ensure, as with any such device, that the end user can’t be exposed to harmful laser radiation in the event of accident or malfunction.\n",
      "Tearing Down the Laser Headlight\n",
      "A marketing image showing the construction of an aftermarket LED/laser headlight. We’d take the laser power with a grain of salt — it’s difficult to imagine a 10 W laser shining directly on some small LEDs without melting a hole through the board in short order.\n",
      "An aftermarket has sprung up too, with delightfully innovative designs. Combined laser/LED headlights are readily available on Alibaba, designed as a drop in replacement for projector lamps on existing vehicles. These often use an LED low-beam, and a combined LED/laser high beam, where the laser diode shoots directly at the LED phosphor to excite it further, rather than using its own. These units often also come with fan cooling to keep the laser and LEDs below their maximum operational temperature. Such developments are exciting, though it’s important to be wary of the performance of unknown aftermarket headlights. Many aftermarket LED headlight “upgrades” fail to pass muster when it comes to real-world performance, and there’s no reason to believe hybrid LED/laser designs will be any different. We’d love to pass a selection of these parts through a full IIHS test protocol, but that’s sadly beyond the scope (and budget!) of this article.\n",
      "However, [mikeselectricstuff] has happened to lay his hands on both the BMW and aftermarket parts, tearing them all down in his workshop to see what makes them tick. The differences are multitude when laid bare on the bench. The AliExpress part is relatively simple, wired up no differently from a regular headlight. Interestingly, however, the laser high-beam circuit runs all the time in these parts. To prevent blinding other road users, a shutter is kept in place to block the light, which is moved out of the way with a solenoid when the driver turns on the high beam switch.\n",
      "Where the aftermarket part is a little out of left field, the BMW design is another thing entirely. The cutting-edge headlights are hooked up with multiple connectors and over 30 conductors, with much of the driver electronics living in an external controller. Much of this is to drive the various LEDs and stepper motors for slewing the headlights when steering. However, the laser assembly brings its own complexities. Twin light sensors are built inside to monitor the laser beam, and a special metal blocking arm sits directly in front of the diode, presumably to stop the laser light leaving the headlight in the event the phosphor coating burns through. It’s truly wild to get a look inside a modern luxury car’s headlight and see just how far we’ve come from the old days of simple sealed beams.\n",
      "Cost Versus Performance\n",
      "Despite the efficiency gains available, the technology remains expensive. Powerful laser diodes don’t come cheap, after all. However, as the technology trickles down to lower-end models, it’s likely that we could see economies of scale change that for the better. Indeed, if national authorities begin to demand higher performance headlights as standard, we could see laser headlights become the norm, rather than an expensive luxury. The technology could naturally be applied to home and commercial lighting, too — though we suspect the potential gains are limited enough that LED lighting will remain the norm for some time to come.\n",
      "The high light output of laser headlights in a compact package allows engineers greater freedom when designing the front-end of a car.\n",
      "As it currently stands, much of the appeal of the new technology is about the packaging benefits, which allow automotive designers greater freedom around the headlight area. Such concerns are less of a factor when it comes to light fittings in the home or office, or indeed, on lower-end automobiles. Regardless, it’s an exciting new application for lasers and one we’ll be sure to see more of in the future.\n",
      " \n",
      "\n",
      "\n",
      "\n",
      "\n",
      " \n",
      "\n",
      "\n",
      "\n",
      "\n",
      "\n",
      "\n",
      "\n",
      "\n",
      "\n",
      "\n",
      "\n",
      "\n",
      "\n",
      "\n",
      "\n",
      "\n",
      "\n",
      "\n",
      "\n",
      "Posted in car hacks, Engineering, Featured, Laser Hacks, SliderTagged laser, laser headlight, laser headlights, light \n",
      "\n"
     ]
    }
   ],
   "source": [
    "# set up imports\n",
    "import pickle\n",
    "from bs4 import BeautifulSoup\n",
    "\n",
    "# open and load file previously created\n",
    "with open(\"article_html.pkl\", \"rb\") as file:\n",
    "    article_html = pickle.load(file)\n",
    "\n",
    "# good soup \n",
    "soup = BeautifulSoup(article_html, \"html.parser\")\n",
    "\n",
    "article_element = soup.find('article')\n",
    "\n",
    "# display using print fx and get_text\n",
    "print(article_element.get_text())"
   ]
  },
  {
   "cell_type": "markdown",
   "metadata": {},
   "source": [
    "## Question 3\n",
    "3. Load the article text into a trained `spaCy` pipeline, and determine the 5 most frequent tokens (converted to lower case).  Print the common tokens with an appropriate label.  Additionally, print the tokens their frequencies (with appropriate labels). Make sure to remove things we don't care about (punctuation, stopwords, whitespace)."
   ]
  },
  {
   "cell_type": "code",
   "execution_count": 138,
   "metadata": {},
   "outputs": [
    {
     "name": "stdout",
     "output_type": "stream",
     "text": [
      "Most Frequent Tokens:\n",
      "[('laser', 35), ('headlights', 19), ('headlight', 11), ('technology', 10), ('led', 10), ('light', 9), ('high', 8), ('beam', 7), ('automotive', 6), ('leds', 6)]\n"
     ]
    }
   ],
   "source": [
    "import spacy\n",
    "from spacytextblob.spacytextblob import SpacyTextBlob\n",
    "\n",
    "nlp = spacy.load('en_core_web_sm')\n",
    "nlp.add_pipe('spacytextblob')\n",
    "doc = nlp(article_element.get_text())\n",
    "\n",
    "def key_words(token):\n",
    "    return not (token.is_space or token.is_punct or token.is_stop)\n",
    "\n",
    "unique_tokens = [token.text.lower() for token in doc if key_words(token)]\n",
    "token_freq = Counter(unique_tokens)\n",
    "print(\"Most Frequent Tokens:\")\n",
    "print(token_freq.most_common(10))"
   ]
  },
  {
   "cell_type": "markdown",
   "metadata": {},
   "source": [
    "## Question 4\n",
    "4. Load the article text into a trained `spaCy` pipeline, and determine the 5 most frequent lemmas (converted to lower case).  Print the common lemmas with an appropriate label.  Additionally, print the lemmas with their frequencies (with appropriate labels). Make sure to remove things we don't care about (punctuation, stopwords, whitespace)."
   ]
  },
  {
   "cell_type": "code",
   "execution_count": 137,
   "metadata": {},
   "outputs": [
    {
     "name": "stdout",
     "output_type": "stream",
     "text": [
      "Most Frequent Lemmas:\n",
      "[('laser', 40), ('headlight', 28), ('beam', 12), ('technology', 10), ('light', 10), ('lead', 9), ('high', 9), ('come', 7), ('led', 7), ('automotive', 6)]\n"
     ]
    }
   ],
   "source": [
    "import spacy\n",
    "from spacytextblob.spacytextblob import SpacyTextBlob\n",
    "\n",
    "nlp = spacy.load('en_core_web_sm')\n",
    "nlp.add_pipe('spacytextblob')\n",
    "doc = nlp(article_element.get_text())\n",
    "\n",
    "def key_words(lemmas):\n",
    "    return not (lemmas.is_space or lemmas.is_punct or lemmas.is_stop)\n",
    "\n",
    "unique_lemmas = [token.lemma_.lower() for token in doc if key_words(token)]\n",
    "lemma_freq = Counter(unique_lemmas)\n",
    "print(\"Most Frequent Lemmas:\")\n",
    "print(lemma_freq.most_common(10))"
   ]
  },
  {
   "cell_type": "markdown",
   "metadata": {},
   "source": [
    "## Question 5\n",
    "5. Define the following methods:\n",
    "    * `score_sentence_by_token(sentence, interesting_token)` that takes a sentence and a list of interesting token and returns the number of times that any of the interesting words appear in the sentence divided by the number of words in the sentence\n",
    "    * `score_sentence_by_lemma(sentence, interesting_lemmas)` that takes a sentence and a list of interesting lemmas and returns the number of times that any of the interesting lemmas appear in the sentence divided by the number of words in the sentence\n",
    "    \n",
    "You may find some of the code from the in class notes useful; feel free to use methods (rewrite them in this cell as well).  Test them by showing the score of the first sentence in your article using the frequent tokens and frequent lemmas identified in question 3."
   ]
  },
  {
   "cell_type": "code",
   "execution_count": 149,
   "metadata": {},
   "outputs": [
    {
     "name": "stdout",
     "output_type": "stream",
     "text": [
      "Sentence: When we think about the onward march of automotive technology, headlights aren’t usually the first thing that come to mind.\n",
      "Number of words in sentence: 21\n",
      "Score: 0.4\n"
     ]
    }
   ],
   "source": [
    "sentences = list(doc.sents)\n",
    "\n",
    "def sentence_length (sent):\n",
    "    count = 0\n",
    "    for token in sent:\n",
    "        if not(token.is_space or token.is_punct):\n",
    "            count += 1\n",
    "    return count\n",
    "print(\"Sentence:\", sentences[1])\n",
    "print(\"Number of words in sentence:\",sentence_length(sentences[1]))\n",
    "\n",
    "def key_words(token):\n",
    "    return not (token.is_space or token.is_punct or token.is_stop)\n",
    "    unique_tokens = [token.text.lower() for token in doc if key_words(token)]\n",
    "    score = unqiue_tokens / sentence_length (sent)\n",
    "    return score\n",
    "print(\"Score:\", score)\n"
   ]
  },
  {
   "cell_type": "code",
   "execution_count": 151,
   "metadata": {},
   "outputs": [
    {
     "name": "stdout",
     "output_type": "stream",
     "text": [
      "Sentence: When we think about the onward march of automotive technology, headlights aren’t usually the first thing that come to mind.\n",
      "Number of words in sentence: 21\n",
      "Score: 0.4\n"
     ]
    }
   ],
   "source": [
    "sentences = list(doc.sents)\n",
    "\n",
    "def sentence_length (sent):\n",
    "    count = 0\n",
    "    for lemma in sent:\n",
    "        if not(lemma.is_space or lemma.is_punct):\n",
    "            count += 1\n",
    "    return count\n",
    "print(\"Sentence:\", sentences[1])\n",
    "print(\"Number of words in sentence:\",sentence_length(sentences[1]))\n",
    "\n",
    "def key_words(lemmas):\n",
    "    return not (lemmas.is_space or lemmas.is_punct or lemmas.is_stop)\n",
    "    unique_lemmas = [token.lemma_.lower() for token in doc if key_words(token)]\n",
    "    score = unqiue_lemmas / sentence_length (sent)\n",
    "    return score\n",
    "print(\"Score:\", score)"
   ]
  },
  {
   "cell_type": "markdown",
   "metadata": {},
   "source": [
    "## Question 6\n",
    "6. Make a list containing the scores (using tokens) of every sentence in the article, and plot a histogram with appropriate titles and axis labels of the scores. From your histogram, what seems to be the most common range of scores (put the answer in a comment after your code)?"
   ]
  },
  {
   "cell_type": "code",
   "execution_count": 107,
   "metadata": {},
   "outputs": [
    {
     "name": "stdout",
     "output_type": "stream",
     "text": [
      "{'laser', 'headlight', 'led', 'technology', 'headlights'}\n"
     ]
    }
   ],
   "source": [
    "token_words = set()\n",
    "for token, freq in token_freq.most_common(5):\n",
    "    token_words.add(token)\n",
    "print(token_words)"
   ]
  },
  {
   "cell_type": "code",
   "execution_count": 99,
   "metadata": {},
   "outputs": [
    {
     "name": "stdout",
     "output_type": "stream",
     "text": [
      "0.08333333333333333 : How Laser Headlights Work        130 Comments      by:Lewin DayMarch 22, 2021\n",
      "0.047619047619047616 : When we think about the onward march of automotive technology, headlights aren’t usually the first thing that come to mind.\n",
      "0.0 : Engines, fuel efficiency, and the switch to electric power are all more front of mind.\n",
      "0.0 : However, that doesn’t mean there aren’t thousands of engineers around the world working to improve the state of the art in automotive lighting day in, day out.\n",
      "0.038461538461538464 : Sealed beam headlights gave way to more modern designs once regulations loosened up, while bulbs moved from simple halogens to xenon HIDs and, more recently, LEDs.\n",
      "0.16666666666666666 : Now, a new technology is on the scene, with lasers!Laser Headlights?!\n",
      "0.25 : BWM’s prototype laser headlight assemblies undergoing testing.\n",
      "0.08695652173913043 : The first image brought to mind by the phrase “laser headlights” is that of laser beams firing out the front of an automobile.\n",
      "0.047619047619047616 : Obviously, coherent beams of monochromatic light would make for poor illumination outside of a very specific spot quite some distance away.\n",
      "0.07142857142857142 : Thankfully for our eyes, laser headlights don’t work in this way at all.\n",
      "0.1875 : Instead, laser headlights consist of one or more solid state laser diodes mounted inside the headlight.\n",
      "0.0 : These blue lasers are fired at a yellow phosphor, similar to that used in white LEDs.\n",
      "0.045454545454545456 : This produces a powerful, vibrant white light that can then be bounced off reflectors and out of the headlights towards the road.\n",
      "0.1111111111111111 : Laser headlights built in this way have several benefits.\n",
      "0.045454545454545456 : They’re more energy efficient than LEDs that put out the same amount of light, while also being more space efficient, too.\n",
      "0.1875 : BWM’s futuristic i8 was one of the first vehicles to ship with laser headlight technology.\n",
      "0.1 : Laser headlights are still a nascent technology, thus far only appearing in a few BMW, Audi, and other select vehicles.\n",
      "0.09090909090909091 : BMW’s technology was developed in partnership with lighting experts OSRAM.\n",
      "0.07692307692307693 : In practice, a regular LED low-beam lamp is used, with the laser used to create an incredibly bright and focused spot, used for high-beams.\n",
      "0.0 : This can provide illumination out to 600 meters ahead of the vehicle, double that of conventional LED high beams.\n",
      "0.0 : The lights use indium gallium nitride diode lasers that were originally used in projectors, with power levels above 1 watt.\n",
      "0.045454545454545456 : One of the challenges in implementing such technology in an automotive environment is the need for it to operate at temperature extremes.\n",
      "0.03773584905660377 : While research lasers and laser pointers may primarily be used at typical room temperatures, automotive headlights must be able to withstand everything from 40 degrees below zero up to 50 degrees C. Thankfully, the laser’s high efficiency means it doesn’t have huge heat output of its own to further complicate things.\n",
      "0.0 : Other engineering challenges involve tailoring the optics package for the rough-and-tumble, high vibration environment found in the automotive application.\n",
      "0.03333333333333333 : It’s also important to ensure, as with any such device, that the end user can’t be exposed to harmful laser radiation in the event of accident or malfunction.\n",
      "0.23529411764705882 : Tearing Down the Laser HeadlightA marketing image showing the construction of an aftermarket LED/laser headlight.\n",
      "0.05555555555555555 : We’d take the laser power with a grain of salt — it’s difficult to imagine a 10 W laser shining directly on some small LEDs without melting a hole through the board in short order.\n",
      "0.0 : An aftermarket has sprung up too, with delightfully innovative designs.\n",
      "0.047619047619047616 : Combined laser/LED headlights are readily available on Alibaba, designed as a drop in replacement for projector lamps on existing vehicles.\n",
      "0.12121212121212122 : These often use an LED low-beam, and a combined LED/laser high beam, where the laser diode shoots directly at the LED phosphor to excite it further, rather than using its own.\n",
      "0.05263157894736842 : These units often also come with fan cooling to keep the laser and LEDs below their maximum operational temperature.\n",
      "0.0 : Such developments are exciting, though it’s important to be wary of the performance of unknown aftermarket headlights.\n",
      "0.06451612903225806 : Many aftermarket LED headlight “upgrades” fail to pass muster when it comes to real-world performance, and there’s no reason to believe hybrid LED/laser designs will be any different.\n",
      "0.0 : We’d love to pass a selection of these parts through a full IIHS test protocol, but that’s sadly beyond the scope (and budget!)\n",
      "0.0 : of this article.\n",
      "0.0 : However, [mikeselectricstuff] has happened to lay his hands on both the BMW and aftermarket parts, tearing them all down in his workshop to see what makes them tick.\n",
      "0.0 : The differences are multitude when laid bare on the bench.\n",
      "0.07142857142857142 : The AliExpress part is relatively simple, wired up no differently from a regular headlight.\n",
      "0.14285714285714285 : Interestingly, however, the laser high-beam circuit runs all the time in these parts.\n",
      "0.05714285714285714 : To prevent blinding other road users, a shutter is kept in place to block the light, which is moved out of the way with a solenoid when the driver turns on the high beam switch.\n",
      "0.0 : Where the aftermarket part is a little out of left field, the BMW design is another thing entirely.\n",
      "0.0 : The cutting-edge headlights are hooked up with multiple connectors and over 30 conductors, with much of the driver electronics living in an external controller.\n",
      "0.0 : Much of this is to drive the various LEDs and stepper motors for slewing the headlights when steering.\n",
      "0.125 : However, the laser assembly brings its own complexities.\n",
      "0.14634146341463414 : Twin light sensors are built inside to monitor the laser beam, and a special metal blocking arm sits directly in front of the diode, presumably to stop the laser light leaving the headlight in the event the phosphor coating burns through.\n",
      "0.03225806451612903 : It’s truly wild to get a look inside a modern luxury car’s headlight and see just how far we’ve come from the old days of simple sealed beams.\n",
      "0.08333333333333333 : Cost Versus PerformanceDespite the efficiency gains available, the technology remains expensive.\n",
      "0.1111111111111111 : Powerful laser diodes don’t come cheap, after all.\n",
      "0.04 : However, as the technology trickles down to lower-end models, it’s likely that we could see economies of scale change that for the better.\n",
      "0.04 : Indeed, if national authorities begin to demand higher performance headlights as standard, we could see laser headlights become the norm, rather than an expensive luxury.\n",
      "0.030303030303030304 : The technology could naturally be applied to home and commercial lighting, too — though we suspect the potential gains are limited enough that LED lighting will remain the norm for some time to come.\n",
      "0.08695652173913043 : The high light output of laser headlights in a compact package allows engineers greater freedom when designing the front-end of a car.\n",
      "0.07407407407407407 : As it currently stands, much of the appeal of the new technology is about the packaging benefits, which allow automotive designers greater freedom around the headlight area.\n",
      "0.041666666666666664 : Such concerns are less of a factor when it comes to light fittings in the home or office, or indeed, on lower-end automobiles.\n",
      "0.0 : Regardless, it’s an exciting new application for lasers and one we’ll be sure to see more of in the future.  \n",
      "0.4 : Posted in car hacks, Engineering, Featured, Laser Hacks, SliderTagged laser, laser headlight, laser headlights, light \n"
     ]
    }
   ],
   "source": [
    "sentences = list(doc.sents) \n",
    "for sentence in sentences:\n",
    "    count1= 0\n",
    "    for token in sentence:\n",
    "        if token.text.lower() in key_words:\n",
    "            count1+= 1\n",
    "    count2 = 0\n",
    "    for token in sentence:\n",
    "        if not(token.is_space or token.is_punct):\n",
    "            count2 += 1\n",
    "    sent_str = str(sentence).replace('\\n','').replace('  ',' ')\n",
    "    print(count1/count2,':',sent_str)        "
   ]
  },
  {
   "cell_type": "code",
   "execution_count": 43,
   "metadata": {},
   "outputs": [
    {
     "name": "stdout",
     "output_type": "stream",
     "text": [
      "Number of words in sentence: 21 The Sentence: When we think about the onward march of automotive technology, headlights aren’t usually the first thing that come to mind.\n"
     ]
    }
   ],
   "source": [
    "def sentence_length (sent):\n",
    "    count = 0\n",
    "    for token in sent:\n",
    "        if not(token.is_space or token.is_punct):\n",
    "            count += 1\n",
    "    return count\n",
    "print(\"Number of words in sentence:\",sentence_length(sentences[1]),\"The Sentence:\", sentences[1])"
   ]
  },
  {
   "cell_type": "code",
   "execution_count": 100,
   "metadata": {},
   "outputs": [
    {
     "name": "stdout",
     "output_type": "stream",
     "text": [
      "Token Score [0.08333333333333333, 0.047619047619047616, 0.0, 0.0, 0.038461538461538464, 0.16666666666666666, 0.25, 0.08695652173913043, 0.047619047619047616, 0.07142857142857142, 0.1875, 0.0, 0.045454545454545456, 0.1111111111111111, 0.045454545454545456, 0.1875, 0.1, 0.09090909090909091, 0.07692307692307693, 0.0, 0.0, 0.045454545454545456, 0.03773584905660377, 0.0, 0.03333333333333333, 0.23529411764705882, 0.05555555555555555, 0.0, 0.047619047619047616, 0.12121212121212122, 0.05263157894736842, 0.0, 0.06451612903225806, 0.0, 0.0, 0.0, 0.0, 0.07142857142857142, 0.14285714285714285, 0.05714285714285714, 0.0, 0.0, 0.0, 0.125, 0.14634146341463414, 0.03225806451612903, 0.08333333333333333, 0.1111111111111111, 0.04, 0.04, 0.030303030303030304, 0.08695652173913043, 0.07407407407407407, 0.041666666666666664, 0.0, 0.4]\n"
     ]
    }
   ],
   "source": [
    "# List of scores containing tokens\n",
    "\n",
    "token_scores_sentence = []\n",
    "for sentence in sentences:\n",
    "    count1= 0\n",
    "    for token in sentence:\n",
    "        if token.text.lower() in key_words:\n",
    "            count1 += 1\n",
    "    count2 = 0\n",
    "    for token in sentence:\n",
    "        if not(token.is_space or token.is_punct):\n",
    "            count2 += 1\n",
    "    score = count1 / count2 if count2 > 0 else 0\n",
    "    token_scores_sentence.append(score)\n",
    "\n",
    "print(\"Token Score\", (token_scores_sentence))"
   ]
  },
  {
   "cell_type": "code",
   "execution_count": 96,
   "metadata": {},
   "outputs": [
    {
     "data": {
      "image/png": "[encoded data removed]",
      "text/plain": [
       "<Figure size 1000x500 with 1 Axes>"
      ]
     },
     "metadata": {},
     "output_type": "display_data"
    }
   ],
   "source": [
    "import matplotlib.pyplot as plt\n",
    "import numpy as np\n",
    "\n",
    "# Dimensions of figure; how wide and how long  \n",
    "fig = plt.figure(figsize = (10, 5))\n",
    " \n",
    "# creating the histogram\n",
    "plt.hist(token_scores_sentence, bins=10, color='teal')\n",
    " \n",
    "#Label the axis\n",
    "plt.xlabel(\"Token Score\")\n",
    "plt.ylabel(\"Frequency\")\n",
    "plt.title(\"Frequency Distribution of Tokens in the Sentence\")\n",
    "#print the graph\n",
    "plt.show()\n"
   ]
  },
  {
   "cell_type": "markdown",
   "metadata": {},
   "source": [
    "The most common score is 0.0, which is logical because we removed common key words like: the, is, a, etc. Words are unique in there own way. Laser is not going to appear in every sentence of the article, unless the article is written by a 5th grader with no sentence structure."
   ]
  },
  {
   "cell_type": "markdown",
   "metadata": {},
   "source": [
    "## Question 7\n",
    "7. Make a list containing the scores (using lemmas) of every sentence in the article, and plot a histogram with appropriate titles and axis labels of the scores.  From your histogram, what seems to be the most common range of scores (put the answer in a comment after your code)?"
   ]
  },
  {
   "cell_type": "code",
   "execution_count": 105,
   "metadata": {},
   "outputs": [
    {
     "name": "stdout",
     "output_type": "stream",
     "text": [
      "{'laser', 'headlight', 'technology', 'beam', 'light'}\n"
     ]
    }
   ],
   "source": [
    "lemma_words = set()\n",
    "for lemma, freq in lemma_freq.most_common(5):\n",
    "    lemma_words.add(lemma)\n",
    "print(lemma_words)"
   ]
  },
  {
   "cell_type": "code",
   "execution_count": 106,
   "metadata": {},
   "outputs": [
    {
     "name": "stdout",
     "output_type": "stream",
     "text": [
      "0.08333333333333333 : How Laser Headlights Work        130 Comments      by:Lewin DayMarch 22, 2021\n",
      "0.047619047619047616 : When we think about the onward march of automotive technology, headlights aren’t usually the first thing that come to mind.\n",
      "0.0 : Engines, fuel efficiency, and the switch to electric power are all more front of mind.\n",
      "0.0 : However, that doesn’t mean there aren’t thousands of engineers around the world working to improve the state of the art in automotive lighting day in, day out.\n",
      "0.038461538461538464 : Sealed beam headlights gave way to more modern designs once regulations loosened up, while bulbs moved from simple halogens to xenon HIDs and, more recently, LEDs.\n",
      "0.16666666666666666 : Now, a new technology is on the scene, with lasers!Laser Headlights?!\n",
      "0.25 : BWM’s prototype laser headlight assemblies undergoing testing.\n",
      "0.08695652173913043 : The first image brought to mind by the phrase “laser headlights” is that of laser beams firing out the front of an automobile.\n",
      "0.047619047619047616 : Obviously, coherent beams of monochromatic light would make for poor illumination outside of a very specific spot quite some distance away.\n",
      "0.07142857142857142 : Thankfully for our eyes, laser headlights don’t work in this way at all.\n",
      "0.1875 : Instead, laser headlights consist of one or more solid state laser diodes mounted inside the headlight.\n",
      "0.0 : These blue lasers are fired at a yellow phosphor, similar to that used in white LEDs.\n",
      "0.045454545454545456 : This produces a powerful, vibrant white light that can then be bounced off reflectors and out of the headlights towards the road.\n",
      "0.1111111111111111 : Laser headlights built in this way have several benefits.\n",
      "0.045454545454545456 : They’re more energy efficient than LEDs that put out the same amount of light, while also being more space efficient, too.\n",
      "0.1875 : BWM’s futuristic i8 was one of the first vehicles to ship with laser headlight technology.\n",
      "0.1 : Laser headlights are still a nascent technology, thus far only appearing in a few BMW, Audi, and other select vehicles.\n",
      "0.09090909090909091 : BMW’s technology was developed in partnership with lighting experts OSRAM.\n",
      "0.07692307692307693 : In practice, a regular LED low-beam lamp is used, with the laser used to create an incredibly bright and focused spot, used for high-beams.\n",
      "0.0 : This can provide illumination out to 600 meters ahead of the vehicle, double that of conventional LED high beams.\n",
      "0.0 : The lights use indium gallium nitride diode lasers that were originally used in projectors, with power levels above 1 watt.\n",
      "0.045454545454545456 : One of the challenges in implementing such technology in an automotive environment is the need for it to operate at temperature extremes.\n",
      "0.03773584905660377 : While research lasers and laser pointers may primarily be used at typical room temperatures, automotive headlights must be able to withstand everything from 40 degrees below zero up to 50 degrees C. Thankfully, the laser’s high efficiency means it doesn’t have huge heat output of its own to further complicate things.\n",
      "0.0 : Other engineering challenges involve tailoring the optics package for the rough-and-tumble, high vibration environment found in the automotive application.\n",
      "0.03333333333333333 : It’s also important to ensure, as with any such device, that the end user can’t be exposed to harmful laser radiation in the event of accident or malfunction.\n",
      "0.23529411764705882 : Tearing Down the Laser HeadlightA marketing image showing the construction of an aftermarket LED/laser headlight.\n",
      "0.05555555555555555 : We’d take the laser power with a grain of salt — it’s difficult to imagine a 10 W laser shining directly on some small LEDs without melting a hole through the board in short order.\n",
      "0.0 : An aftermarket has sprung up too, with delightfully innovative designs.\n",
      "0.047619047619047616 : Combined laser/LED headlights are readily available on Alibaba, designed as a drop in replacement for projector lamps on existing vehicles.\n",
      "0.12121212121212122 : These often use an LED low-beam, and a combined LED/laser high beam, where the laser diode shoots directly at the LED phosphor to excite it further, rather than using its own.\n",
      "0.05263157894736842 : These units often also come with fan cooling to keep the laser and LEDs below their maximum operational temperature.\n",
      "0.0 : Such developments are exciting, though it’s important to be wary of the performance of unknown aftermarket headlights.\n",
      "0.06451612903225806 : Many aftermarket LED headlight “upgrades” fail to pass muster when it comes to real-world performance, and there’s no reason to believe hybrid LED/laser designs will be any different.\n",
      "0.0 : We’d love to pass a selection of these parts through a full IIHS test protocol, but that’s sadly beyond the scope (and budget!)\n",
      "0.0 : of this article.\n",
      "0.0 : However, [mikeselectricstuff] has happened to lay his hands on both the BMW and aftermarket parts, tearing them all down in his workshop to see what makes them tick.\n",
      "0.0 : The differences are multitude when laid bare on the bench.\n",
      "0.07142857142857142 : The AliExpress part is relatively simple, wired up no differently from a regular headlight.\n",
      "0.14285714285714285 : Interestingly, however, the laser high-beam circuit runs all the time in these parts.\n",
      "0.05714285714285714 : To prevent blinding other road users, a shutter is kept in place to block the light, which is moved out of the way with a solenoid when the driver turns on the high beam switch.\n",
      "0.0 : Where the aftermarket part is a little out of left field, the BMW design is another thing entirely.\n",
      "0.0 : The cutting-edge headlights are hooked up with multiple connectors and over 30 conductors, with much of the driver electronics living in an external controller.\n",
      "0.0 : Much of this is to drive the various LEDs and stepper motors for slewing the headlights when steering.\n",
      "0.125 : However, the laser assembly brings its own complexities.\n",
      "0.14634146341463414 : Twin light sensors are built inside to monitor the laser beam, and a special metal blocking arm sits directly in front of the diode, presumably to stop the laser light leaving the headlight in the event the phosphor coating burns through.\n",
      "0.03225806451612903 : It’s truly wild to get a look inside a modern luxury car’s headlight and see just how far we’ve come from the old days of simple sealed beams.\n",
      "0.08333333333333333 : Cost Versus PerformanceDespite the efficiency gains available, the technology remains expensive.\n",
      "0.1111111111111111 : Powerful laser diodes don’t come cheap, after all.\n",
      "0.04 : However, as the technology trickles down to lower-end models, it’s likely that we could see economies of scale change that for the better.\n",
      "0.04 : Indeed, if national authorities begin to demand higher performance headlights as standard, we could see laser headlights become the norm, rather than an expensive luxury.\n",
      "0.030303030303030304 : The technology could naturally be applied to home and commercial lighting, too — though we suspect the potential gains are limited enough that LED lighting will remain the norm for some time to come.\n",
      "0.08695652173913043 : The high light output of laser headlights in a compact package allows engineers greater freedom when designing the front-end of a car.\n",
      "0.07407407407407407 : As it currently stands, much of the appeal of the new technology is about the packaging benefits, which allow automotive designers greater freedom around the headlight area.\n",
      "0.041666666666666664 : Such concerns are less of a factor when it comes to light fittings in the home or office, or indeed, on lower-end automobiles.\n",
      "0.0 : Regardless, it’s an exciting new application for lasers and one we’ll be sure to see more of in the future.  \n",
      "0.4 : Posted in car hacks, Engineering, Featured, Laser Hacks, SliderTagged laser, laser headlight, laser headlights, light \n"
     ]
    }
   ],
   "source": [
    "sentences = list(doc.sents) \n",
    "for sentence in sentences:\n",
    "    count1= 0\n",
    "    for lemma in sentence:\n",
    "        if lemma.text.lower() in lemma_words:\n",
    "            count1+= 1\n",
    "    count2 = 0\n",
    "    for lemma in sentence:\n",
    "        if not(lemma.is_space or lemma.is_punct):\n",
    "            count2 += 1\n",
    "    sent_str = str(sentence).replace('\\n','').replace('  ',' ')\n",
    "    print(count1/count2,':',sent_str)  "
   ]
  },
  {
   "cell_type": "code",
   "execution_count": 113,
   "metadata": {},
   "outputs": [
    {
     "name": "stdout",
     "output_type": "stream",
     "text": [
      "Lemma Score [0.08333333333333333, 0.047619047619047616, 0.0, 0.0, 0.038461538461538464, 0.16666666666666666, 0.25, 0.08695652173913043, 0.047619047619047616, 0.07142857142857142, 0.1875, 0.0, 0.045454545454545456, 0.1111111111111111, 0.045454545454545456, 0.1875, 0.1, 0.09090909090909091, 0.07692307692307693, 0.0, 0.0, 0.045454545454545456, 0.03773584905660377, 0.0, 0.03333333333333333, 0.23529411764705882, 0.05555555555555555, 0.0, 0.047619047619047616, 0.12121212121212122, 0.05263157894736842, 0.0, 0.06451612903225806, 0.0, 0.0, 0.0, 0.0, 0.07142857142857142, 0.14285714285714285, 0.05714285714285714, 0.0, 0.0, 0.0, 0.125, 0.14634146341463414, 0.03225806451612903, 0.08333333333333333, 0.1111111111111111, 0.04, 0.04, 0.030303030303030304, 0.08695652173913043, 0.07407407407407407, 0.041666666666666664, 0.0, 0.4]\n"
     ]
    }
   ],
   "source": [
    "# List of scores containing Lemmas\n",
    "\n",
    "lemma_scores_sentence = []\n",
    "for sentence in sentences:\n",
    "    count1= 0\n",
    "    for lemma in sentence:\n",
    "        if lemma.text.lower() in lemma_words:\n",
    "            count1 += 1\n",
    "    count2 = 0\n",
    "    for lemma in sentence:\n",
    "        if not(lemma.is_space or lemma.is_punct):\n",
    "            count2 += 1\n",
    "    score = count1 / count2 if count2 > 0 else 0\n",
    "    lemma_scores_sentence.append(score)\n",
    "\n",
    "print(\"Lemma Score\", (lemma_scores_sentence))"
   ]
  },
  {
   "cell_type": "code",
   "execution_count": 111,
   "metadata": {},
   "outputs": [
    {
     "data": {
      "image/png": "[encoded data removed]",
      "text/plain": [
       "<Figure size 1000x500 with 1 Axes>"
      ]
     },
     "metadata": {},
     "output_type": "display_data"
    }
   ],
   "source": [
    "import matplotlib.pyplot as plt\n",
    "import numpy as np\n",
    "\n",
    "# Dimensions of figure; how wide and how long  \n",
    "fig = plt.figure(figsize = (10, 5))\n",
    " \n",
    "# creating the histogram\n",
    "plt.hist(lemma_scores_sentence, bins=10, color='maroon')\n",
    " \n",
    "#Label the axis\n",
    "plt.xlabel(\"Lemma Score\")\n",
    "plt.ylabel(\"Frequency\")\n",
    "plt.title(\"Frequency Distribution of Lemma in the Sentence\")\n",
    "#print the graph\n",
    "plt.show()"
   ]
  },
  {
   "cell_type": "markdown",
   "metadata": {},
   "source": [
    "Similar to question 6 answer. Lemmas are the base words. For example, headlight(s) and laser(s), these words are just as unique but with different english conjugation, lemmas are not common words like the, a, is, etc. The scores would be similar to their tokens. "
   ]
  },
  {
   "cell_type": "markdown",
   "metadata": {},
   "source": [
    "## Question 8\n",
    "8. Which tokens and lexems would be ommitted from the lists generated in questions 3 and 4 if we only wanted to consider nouns as interesting words?  How might we change the code to only consider nouns? Put your answer in this Markdown cell (you can edit it by double clicking it)."
   ]
  },
  {
   "cell_type": "code",
   "execution_count": 157,
   "metadata": {},
   "outputs": [
    {
     "name": "stdout",
     "output_type": "stream",
     "text": [
      "['technology', 'headlights', 'thing', 'Engines', 'fuel', 'efficiency', 'switch', 'power', 'mind', 'thousands', 'engineers', 'world', 'state', 'art', 'lighting', 'day', 'day', 'beam', 'headlights', 'way', 'designs', 'regulations', 'bulbs', 'halogens', 'LEDs', 'technology', 'scene', 'lasers', 'prototype', 'laser', 'assemblies', 'testing', 'image', 'mind', 'phrase', 'laser', 'headlights', 'laser', 'beams', 'automobile', 'beams', 'light', 'illumination', 'spot', 'distance', 'eyes', 'laser', 'headlights', 'way', 'laser', 'headlights', 'state', 'laser', 'diodes', 'headlight', 'lasers', 'phosphor', 'LEDs', 'light', 'reflectors', 'headlights', 'road', 'Laser', 'headlights', 'way', 'benefits', 'energy', 'LEDs', 'light', 'space', 'i8', 'vehicles', 'laser', 'technology', 'headlights', 'nascent', 'technology', 'vehicles', 'technology', 'partnership', 'lighting', 'experts', 'practice', 'beam', 'lamp', 'laser', 'spot', 'beams', 'illumination', 'meters', 'vehicle', 'beams', 'lights', 'diode', 'lasers', 'projectors', 'power', 'levels', 'watt', 'challenges', 'technology', 'environment', 'need', 'temperature', 'extremes', 'research', 'lasers', 'laser', 'pointers', 'room', 'temperatures', 'headlights', 'degrees', 'degrees', 'laser', 'efficiency', 'heat', 'output', 'things', 'engineering', 'challenges', 'optics', 'package', 'tumble', 'vibration', 'environment', 'application', 'device', 'end', 'user', 'laser', 'radiation', 'event', 'accident', 'malfunction', 'marketing', 'image', 'construction', 'aftermarket', 'laser', 'laser', 'power', 'grain', 'salt', 'W', 'laser', 'LEDs', 'hole', 'board', 'order', 'aftermarket', 'designs', 'laser', 'headlights', 'drop', 'replacement', 'projector', 'lamps', 'vehicles', 'beam', 'laser', 'beam', 'laser', 'diode', 'shoots', 'phosphor', 'units', 'fan', 'laser', 'LEDs', 'temperature', 'developments', 'performance', 'aftermarket', 'headlights', 'aftermarket', 'upgrades', 'muster', 'world', 'performance', 'reason', 'laser', 'designs', 'selection', 'parts', 'test', 'protocol', 'scope', 'budget', 'article', 'mikeselectricstuff', 'hands', 'aftermarket', 'parts', 'workshop', 'differences', 'bench', 'headlight', 'laser', 'beam', 'circuit', 'time', 'parts', 'road', 'users', 'shutter', 'place', 'light', 'way', 'solenoid', 'driver', 'beam', 'switch', 'aftermarket', 'field', 'design', 'thing', 'cutting', 'edge', 'headlights', 'connectors', 'conductors', 'driver', 'electronics', 'controller', 'LEDs', 'stepper', 'motors', 'headlights', 'laser', 'assembly', 'complexities', 'sensors', 'laser', 'beam', 'metal', 'blocking', 'arm', 'diode', 'laser', 'light', 'headlight', 'event', 'phosphor', 'coating', 'look', 'luxury', 'car', 'headlight', 'days', 'beams', 'Performance', 'efficiency', 'gains', 'technology', 'laser', 'diodes', 'technology', 'end', 'models', 'economies', 'scale', 'change', 'authorities', 'performance', 'headlights', 'standard', 'laser', 'headlights', 'norm', 'luxury', 'technology', 'home', 'lighting', 'gains', 'lighting', 'norm', 'time', 'output', 'laser', 'headlights', 'package', 'engineers', 'freedom', 'end', 'car', 'appeal', 'technology', 'packaging', 'benefits', 'designers', 'freedom', 'area', 'concerns', 'factor', 'fittings', 'home', 'office', 'end', 'automobiles', 'application', 'lasers', 'future', 'car', 'hacks', 'laser', 'laser', 'headlight', 'laser', 'headlights']\n"
     ]
    }
   ],
   "source": [
    "import spacy\n",
    "from spacytextblob.spacytextblob import SpacyTextBlob\n",
    "\n",
    "nlp = spacy.load('en_core_web_sm')\n",
    "nlp.add_pipe('spacytextblob')\n",
    "doc = nlp(article_element.get_text())\n",
    "\n",
    "nouns = []\n",
    "for token in doc:\n",
    "    if not token.is_stop | token.is_punct and token.pos_ == \"NOUN\":\n",
    "        nouns.append(token.text)\n",
    "\n",
    "print(nouns)\n"
   ]
  },
  {
   "cell_type": "markdown",
   "metadata": {},
   "source": [
    "Not much would be gained from limiting the search to just nouns. The only words I see mising from Q3 & Q4 are \"come\" and \"led\". Which is only 2 replaced words out of the ten that I listed. "
   ]
  }
 ],
 "metadata": {
  "kernelspec": {
   "display_name": ".venv",
   "language": "python",
   "name": "python3"
  },
  "language_info": {
   "codemirror_mode": {
    "name": "ipython",
    "version": 3
   },
   "file_extension": ".py",
   "mimetype": "text/x-python",
   "name": "python",
   "nbconvert_exporter": "python",
   "pygments_lexer": "ipython3",
   "version": "3.10.11"
  }
 },
 "nbformat": 4,
 "nbformat_minor": 4
}
