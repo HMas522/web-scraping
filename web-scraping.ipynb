{
 "cells": [
  {
   "cell_type": "markdown",
   "metadata": {},
   "source": [
    "# Web Mining and Applied NLP (44-620)\n",
    "\n",
    "## Web Scraping and NLP with Requests, BeautifulSoup, and spaCy\n",
    "\n",
    "### Student Name: Hayley Massey\n",
    "\n",
    "### https://github.com/HMas522/web-scraping\n",
    "\n",
    "Perform the tasks described in the Markdown cells below.  When you have completed the assignment make sure your code cells have all been run (and have output beneath them) and ensure you have committed and pushed ALL of your changes to your assignment repository.\n",
    "\n",
    "Every question that requires you to write code will have a code cell underneath it; you may either write your entire solution in that cell or write it in a python file (`.py`), then import and run the appropriate code to answer the question."
   ]
  },
  {
   "cell_type": "markdown",
   "metadata": {},
   "source": [
    "### Prerequisites"
   ]
  },
  {
   "cell_type": "code",
   "execution_count": 2,
   "metadata": {},
   "outputs": [
    {
     "name": "stdout",
     "output_type": "stream",
     "text": [
      "Package                   Version\n",
      "------------------------- ---------------\n",
      "annotated-types           0.6.0\n",
      "anyio                     3.7.1\n",
      "appdirs                   1.4.4\n",
      "argon2-cffi               23.1.0\n",
      "argon2-cffi-bindings      21.2.0\n",
      "arrow                     1.3.0\n",
      "asgiref                   3.7.2\n",
      "asttokens                 2.2.1\n",
      "async-lru                 2.0.4\n",
      "attrs                     23.2.0\n",
      "Babel                     2.14.0\n",
      "backcall                  0.2.0\n",
      "beautifulsoup4            4.12.2\n",
      "black                     24.1.1\n",
      "bleach                    6.1.0\n",
      "blis                      0.7.11\n",
      "build                     1.0.3\n",
      "catalogue                 2.0.10\n",
      "certifi                   2023.7.22\n",
      "cffi                      1.16.0\n",
      "charset-normalizer        3.2.0\n",
      "click                     8.1.4\n",
      "cloudpathlib              0.16.0\n",
      "colorama                  0.4.6\n",
      "comm                      0.2.1\n",
      "confection                0.1.4\n",
      "contextvars               2.4\n",
      "contourpy                 1.2.0\n",
      "cycler                    0.12.1\n",
      "cymem                     2.0.8\n",
      "debugpy                   1.8.0\n",
      "decorator                 5.1.1\n",
      "defusedxml                0.7.1\n",
      "en-core-web-sm            3.7.1\n",
      "exceptiongroup            1.1.2\n",
      "executing                 1.2.0\n",
      "fastjsonschema            2.19.1\n",
      "fonttools                 4.47.2\n",
      "fqdn                      1.5.1\n",
      "frozendict                2.3.8\n",
      "greenlet                  3.0.3\n",
      "h11                       0.14.0\n",
      "html5lib                  1.1\n",
      "htmltools                 0.2.1\n",
      "idna                      3.4\n",
      "immutables                0.19\n",
      "ipykernel                 6.29.0\n",
      "ipython                   8.14.0\n",
      "ipywidgets                8.1.2\n",
      "isoduration               20.11.0\n",
      "jedi                      0.18.2\n",
      "Jinja2                    3.1.3\n",
      "joblib                    1.3.2\n",
      "json5                     0.9.14\n",
      "jsonpointer               2.4\n",
      "jsonschema                4.21.1\n",
      "jsonschema-specifications 2023.12.1\n",
      "jupyter                   1.0.0\n",
      "jupyter_client            8.6.0\n",
      "jupyter-console           6.6.3\n",
      "jupyter_core              5.7.1\n",
      "jupyter-events            0.9.0\n",
      "jupyter-lsp               2.2.2\n",
      "jupyter_server            2.12.5\n",
      "jupyter_server_terminals  0.5.2\n",
      "jupyterlab                4.0.12\n",
      "jupyterlab_pygments       0.3.0\n",
      "jupyterlab_server         2.25.2\n",
      "jupyterlab_widgets        3.0.10\n",
      "kiwisolver                1.4.5\n",
      "langcodes                 3.3.0\n",
      "linkify-it-py             2.0.2\n",
      "lxml                      4.9.3\n",
      "markdown-it-py            3.0.0\n",
      "MarkupSafe                2.1.5\n",
      "matplotlib                3.8.2\n",
      "matplotlib-inline         0.1.6\n",
      "mdit-py-plugins           0.4.0\n",
      "mdurl                     0.1.2\n",
      "mistune                   3.0.2\n",
      "multitasking              0.0.11\n",
      "murmurhash                1.0.10\n",
      "mypy-extensions           1.0.0\n",
      "nbclient                  0.7.4\n",
      "nbconvert                 7.14.2\n",
      "nbformat                  5.9.2\n",
      "nest-asyncio              1.6.0\n",
      "nltk                      3.8.1\n",
      "nodeenv                   1.8.0\n",
      "notebook                  7.0.7\n",
      "notebook_shim             0.2.3\n",
      "numpy                     1.25.2\n",
      "overrides                 7.7.0\n",
      "packaging                 23.1\n",
      "pandas                    2.2.0\n",
      "pandocfilters             1.5.1\n",
      "parso                     0.8.3\n",
      "pathspec                  0.11.1\n",
      "pickleshare               0.7.5\n",
      "pillow                    10.2.0\n",
      "pip                       24.0\n",
      "platformdirs              3.9.0\n",
      "preshed                   3.0.9\n",
      "prometheus-client         0.19.0\n",
      "prompt-toolkit            3.0.39\n",
      "psutil                    5.9.8\n",
      "psycopg2                  2.9.9\n",
      "psycopg2-binary           2.9.9\n",
      "pure-eval                 0.2.2\n",
      "pycparser                 2.21\n",
      "pydantic                  2.6.4\n",
      "pydantic_core             2.16.3\n",
      "Pygments                  2.15.1\n",
      "PyJWT                     2.7.0\n",
      "pyparsing                 3.1.1\n",
      "pyproject_hooks           1.0.0\n",
      "pyright                   1.1.320\n",
      "python-dateutil           2.8.2\n",
      "python-json-logger        2.0.7\n",
      "python-multipart          0.0.6\n",
      "pytz                      2023.3\n",
      "pywin32                   306\n",
      "pywinpty                  2.0.12\n",
      "PyYAML                    6.0.1\n",
      "pyzmq                     25.1.2\n",
      "qtconsole                 5.5.1\n",
      "QtPy                      2.4.1\n",
      "referencing               0.33.0\n",
      "regex                     2023.12.25\n",
      "requests                  2.31.0\n",
      "rfc3339-validator         0.1.4\n",
      "rfc3986-validator         0.1.1\n",
      "rpds-py                   0.17.1\n",
      "rsconnect-python          1.19.1\n",
      "ruff                      0.2.0\n",
      "seaborn                   0.13.2\n",
      "semver                    2.13.0\n",
      "Send2Trash                1.8.2\n",
      "setuptools                69.2.0\n",
      "shiny                     0.4.0\n",
      "shinyswatch               0.2.4\n",
      "six                       1.16.0\n",
      "smart-open                6.4.0\n",
      "sniffio                   1.3.0\n",
      "soupsieve                 2.4.1\n",
      "spacy                     3.7.4\n",
      "spacy-legacy              3.0.12\n",
      "spacy-loggers             1.0.5\n",
      "spacytextblob             4.0.0\n",
      "SQLAlchemy                2.0.25\n",
      "srsly                     2.4.8\n",
      "stack-data                0.6.2\n",
      "starlette                 0.30.0\n",
      "terminado                 0.18.0\n",
      "textblob                  0.15.3\n",
      "thinc                     8.2.3\n",
      "tinycss2                  1.2.1\n",
      "tokenize-rt               5.1.0\n",
      "tomli                     2.0.1\n",
      "tornado                   6.4\n",
      "tqdm                      4.66.2\n",
      "traitlets                 5.9.0\n",
      "typer                     0.9.4\n",
      "types-python-dateutil     2.8.19.20240106\n",
      "typing_extensions         4.7.1\n",
      "tzdata                    2023.3\n",
      "uc-micro-py               1.0.2\n",
      "uri-template              1.3.0\n",
      "urllib3                   2.0.4\n",
      "uvicorn                   0.23.0\n",
      "voila                     0.5.5\n",
      "wasabi                    1.1.2\n",
      "watchfiles                0.19.0\n",
      "wcwidth                   0.2.6\n",
      "weasel                    0.3.4\n",
      "webcolors                 1.13\n",
      "webencodings              0.5.1\n",
      "websocket-client          1.7.0\n",
      "websockets                11.0.3\n",
      "wheel                     0.43.0\n",
      "widgetsnbextension        4.0.10\n",
      "XStatic-bootswatch        3.3.7.0\n",
      "yfinance                  0.2.26\n",
      "All prereqs installed.\n"
     ]
    }
   ],
   "source": [
    "# Create and activate a Python virtual environment. \n",
    "# Before starting the project, try all these imports FIRST\n",
    "# Address any errors you get running this code cell \n",
    "# by installing the necessary packages into your active Python environment.\n",
    "# Try to resolve issues using your materials and the web.\n",
    "# If that doesn't work, ask for help in the discussion forums.\n",
    "# You can't complete the exercises until you import these - start early! \n",
    "# We also import pickle and Counter (included in the Python Standard Library).\n",
    "\n",
    "from collections import Counter\n",
    "import pickle\n",
    "import requests\n",
    "import spacy\n",
    "from bs4 import BeautifulSoup\n",
    "import matplotlib.pyplot as plt\n",
    "\n",
    "!pip list\n",
    "\n",
    "print('All prereqs installed.')"
   ]
  },
  {
   "cell_type": "markdown",
   "metadata": {},
   "source": [
    "## Question 1\n",
    "1. Write code that extracts the article html from https://web.archive.org/web/20210327165005/https://hackaday.com/2021/03/22/how-laser-headlights-work/ and dumps it to a .pkl (or other appropriate file)"
   ]
  },
  {
   "cell_type": "code",
   "execution_count": 4,
   "metadata": {},
   "outputs": [],
   "source": [
    "# set up imports\n",
    "import requests\n",
    "from bs4 import BeautifulSoup\n",
    "import pickle\n",
    "\n",
    "# call request\n",
    "response = requests.get('https://web.archive.org/web/20210327165005/https://hackaday.com/2021/03/22/how-laser-headlights-work/')\n",
    "\n",
    "# good soup\n",
    "soup = BeautifulSoup(response.text, \"html.parser\")\n",
    "\n",
    "# extract string 'str' word article using soup find\n",
    "article_html = str(soup.find(\"article\"))\n",
    "\n",
    "# create pickle dump and name file name\n",
    "with open(\"article_html.pkl\", \"wb\") as file:\n",
    "    pickle.dump(article_html, file)"
   ]
  },
  {
   "cell_type": "markdown",
   "metadata": {},
   "source": [
    "## Question 2\n",
    "2. Read in your article's html source from the file you created in question 1 and print it's text (use `.get_text()`)"
   ]
  },
  {
   "cell_type": "code",
   "execution_count": null,
   "metadata": {},
   "outputs": [],
   "source": []
  },
  {
   "cell_type": "markdown",
   "metadata": {},
   "source": [
    "## Question 3\n",
    "3. Load the article text into a trained `spaCy` pipeline, and determine the 5 most frequent tokens (converted to lower case).  Print the common tokens with an appropriate label.  Additionally, print the tokens their frequencies (with appropriate labels). Make sure to remove things we don't care about (punctuation, stopwords, whitespace)."
   ]
  },
  {
   "cell_type": "code",
   "execution_count": null,
   "metadata": {},
   "outputs": [],
   "source": []
  },
  {
   "cell_type": "markdown",
   "metadata": {},
   "source": [
    "## Question 4\n",
    "4. Load the article text into a trained `spaCy` pipeline, and determine the 5 most frequent lemmas (converted to lower case).  Print the common lemmas with an appropriate label.  Additionally, print the lemmas with their frequencies (with appropriate labels). Make sure to remove things we don't care about (punctuation, stopwords, whitespace)."
   ]
  },
  {
   "cell_type": "code",
   "execution_count": null,
   "metadata": {},
   "outputs": [],
   "source": []
  },
  {
   "cell_type": "markdown",
   "metadata": {},
   "source": [
    "## Question 5\n",
    "5. Define the following methods:\n",
    "    * `score_sentence_by_token(sentence, interesting_token)` that takes a sentence and a list of interesting token and returns the number of times that any of the interesting words appear in the sentence divided by the number of words in the sentence\n",
    "    * `score_sentence_by_lemma(sentence, interesting_lemmas)` that takes a sentence and a list of interesting lemmas and returns the number of times that any of the interesting lemmas appear in the sentence divided by the number of words in the sentence\n",
    "    \n",
    "You may find some of the code from the in class notes useful; feel free to use methods (rewrite them in this cell as well).  Test them by showing the score of the first sentence in your article using the frequent tokens and frequent lemmas identified in question 3."
   ]
  },
  {
   "cell_type": "code",
   "execution_count": null,
   "metadata": {},
   "outputs": [],
   "source": []
  },
  {
   "cell_type": "markdown",
   "metadata": {},
   "source": [
    "## Question 6\n",
    "6. Make a list containing the scores (using tokens) of every sentence in the article, and plot a histogram with appropriate titles and axis labels of the scores. From your histogram, what seems to be the most common range of scores (put the answer in a comment after your code)?"
   ]
  },
  {
   "cell_type": "code",
   "execution_count": null,
   "metadata": {},
   "outputs": [],
   "source": []
  },
  {
   "cell_type": "markdown",
   "metadata": {},
   "source": [
    "## Question 7\n",
    "7. Make a list containing the scores (using lemmas) of every sentence in the article, and plot a histogram with appropriate titles and axis labels of the scores.  From your histogram, what seems to be the most common range of scores (put the answer in a comment after your code)?"
   ]
  },
  {
   "cell_type": "code",
   "execution_count": null,
   "metadata": {},
   "outputs": [],
   "source": []
  },
  {
   "cell_type": "markdown",
   "metadata": {},
   "source": [
    "## Question 8\n",
    "8. Which tokens and lexems would be ommitted from the lists generated in questions 3 and 4 if we only wanted to consider nouns as interesting words?  How might we change the code to only consider nouns? Put your answer in this Markdown cell (you can edit it by double clicking it)."
   ]
  },
  {
   "cell_type": "markdown",
   "metadata": {},
   "source": []
  }
 ],
 "metadata": {
  "kernelspec": {
   "display_name": ".venv",
   "language": "python",
   "name": "python3"
  },
  "language_info": {
   "codemirror_mode": {
    "name": "ipython",
    "version": 3
   },
   "file_extension": ".py",
   "mimetype": "text/x-python",
   "name": "python",
   "nbconvert_exporter": "python",
   "pygments_lexer": "ipython3",
   "version": "3.10.11"
  }
 },
 "nbformat": 4,
 "nbformat_minor": 4
}
